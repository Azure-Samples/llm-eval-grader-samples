{
 "cells": [
  {
   "cell_type": "code",
   "execution_count": 248,
   "metadata": {},
   "outputs": [
    {
     "name": "stdout",
     "output_type": "stream",
     "text": [
      "Requirement already satisfied: azure-monitor-query in /opt/homebrew/anaconda3/envs/pf-env-86-lmt/lib/python3.10/site-packages (1.3.0)\n",
      "Requirement already satisfied: azure-core>=1.28.0 in /opt/homebrew/anaconda3/envs/pf-env-86-lmt/lib/python3.10/site-packages (from azure-monitor-query) (1.30.1)\n",
      "Requirement already satisfied: isodate>=0.6.0 in /opt/homebrew/anaconda3/envs/pf-env-86-lmt/lib/python3.10/site-packages (from azure-monitor-query) (0.6.1)\n",
      "Requirement already satisfied: typing-extensions>=4.0.1 in /opt/homebrew/anaconda3/envs/pf-env-86-lmt/lib/python3.10/site-packages (from azure-monitor-query) (4.11.0)\n",
      "Requirement already satisfied: requests>=2.21.0 in /opt/homebrew/anaconda3/envs/pf-env-86-lmt/lib/python3.10/site-packages (from azure-core>=1.28.0->azure-monitor-query) (2.31.0)\n",
      "Requirement already satisfied: six>=1.11.0 in /opt/homebrew/anaconda3/envs/pf-env-86-lmt/lib/python3.10/site-packages (from azure-core>=1.28.0->azure-monitor-query) (1.16.0)\n",
      "Requirement already satisfied: charset-normalizer<4,>=2 in /opt/homebrew/anaconda3/envs/pf-env-86-lmt/lib/python3.10/site-packages (from requests>=2.21.0->azure-core>=1.28.0->azure-monitor-query) (3.3.2)\n",
      "Requirement already satisfied: idna<4,>=2.5 in /opt/homebrew/anaconda3/envs/pf-env-86-lmt/lib/python3.10/site-packages (from requests>=2.21.0->azure-core>=1.28.0->azure-monitor-query) (3.7)\n",
      "Requirement already satisfied: urllib3<3,>=1.21.1 in /opt/homebrew/anaconda3/envs/pf-env-86-lmt/lib/python3.10/site-packages (from requests>=2.21.0->azure-core>=1.28.0->azure-monitor-query) (2.2.1)\n",
      "Requirement already satisfied: certifi>=2017.4.17 in /opt/homebrew/anaconda3/envs/pf-env-86-lmt/lib/python3.10/site-packages (from requests>=2.21.0->azure-core>=1.28.0->azure-monitor-query) (2024.2.2)\n",
      "Note: you may need to restart the kernel to use updated packages.\n"
     ]
    }
   ],
   "source": [
    "pip install azure-monitor-query"
   ]
  },
  {
   "cell_type": "code",
   "execution_count": 2,
   "metadata": {},
   "outputs": [],
   "source": [
    "from azure.identity import DefaultAzureCredential\n",
    "from azure.monitor.query import LogsQueryClient, MetricsQueryClient, MetricsClient"
   ]
  },
  {
   "cell_type": "code",
   "execution_count": 3,
   "metadata": {},
   "outputs": [],
   "source": [
    "import os\n",
    "import ast\n",
    "import pandas as pd\n",
    "from datetime import datetime, timezone\n",
    "from azure.monitor.query import LogsQueryClient, LogsQueryStatus\n",
    "from azure.identity import DefaultAzureCredential\n",
    "from azure.core.exceptions import HttpResponseError\n",
    "import numpy as np"
   ]
  },
  {
   "cell_type": "code",
   "execution_count": 4,
   "metadata": {},
   "outputs": [],
   "source": [
    "credential = DefaultAzureCredential()\n",
    "logs_query_client = LogsQueryClient(credential)\n"
   ]
  },
  {
   "cell_type": "code",
   "execution_count": 5,
   "metadata": {},
   "outputs": [],
   "source": [
    "client = LogsQueryClient(credential)\n",
    "\n",
    "\n",
    "start_time=datetime(2024, 4, 2, tzinfo=timezone.utc)\n",
    "end_time=datetime(2024, 5, 4, tzinfo=timezone.utc)\n",
    "\n",
    "query_conversation_data = ''' AppTraces | project TimeGenerated, Message, Properties | where Message == \"conversation_data\" '''\n",
    " \n",
    "query_llm_data = '''  AppTraces | project TimeGenerated, Message, Properties | where Message == \"llm_data\" '''\n"
   ]
  },
  {
   "cell_type": "code",
   "execution_count": 11,
   "metadata": {},
   "outputs": [],
   "source": [
    "\n",
    "\n",
    "\n",
    "start_time='2024/04/01'\n",
    "end_time='2024/05/05'\n",
    "\n",
    "#Converting the start_time and end_time to datetime with timezone\n",
    "start_time=datetime.strptime(start_time, '%Y/%m/%d').replace(tzinfo=timezone.utc)\n",
    "end_time=datetime.strptime(end_time, '%Y/%m/%d').replace(tzinfo=timezone.utc)\n",
    "\n",
    "query_conversation_data = ''' AppTraces | project TimeGenerated, Message, Properties | where Message == \"conversation_data\" '''\n",
    " \n",
    "query_llm_data = '''  AppTraces | project TimeGenerated, Message, Properties | where Message == \"llm_data\" '''"
   ]
  },
  {
   "cell_type": "code",
   "execution_count": 12,
   "metadata": {},
   "outputs": [
    {
     "name": "stdout",
     "output_type": "stream",
     "text": [
      "                       TimeGenerated            Message  \\\n",
      "0   2024-05-02 05:41:27.042375+00:00  conversation_data   \n",
      "1   2024-05-02 05:41:45.188098+00:00  conversation_data   \n",
      "2   2024-05-01 12:02:21.396239+00:00  conversation_data   \n",
      "3   2024-05-01 12:02:25.091355+00:00  conversation_data   \n",
      "4   2024-05-01 12:02:29.274942+00:00  conversation_data   \n",
      "..                               ...                ...   \n",
      "869 2024-05-01 13:15:20.151047+00:00  conversation_data   \n",
      "870 2024-05-01 13:15:26.128892+00:00  conversation_data   \n",
      "871 2024-05-01 13:15:30.873785+00:00  conversation_data   \n",
      "872 2024-05-01 13:15:36.319355+00:00  conversation_data   \n",
      "873 2024-05-01 13:15:41.144701+00:00  conversation_data   \n",
      "\n",
      "                                            Properties  \n",
      "0    {\"code.filepath\":\"E:\\\\code\\\\llm-eval-grader\\\\src\\\\...  \n",
      "1    {\"code.filepath\":\"E:\\\\code\\\\llm-eval-grader\\\\src\\\\...  \n",
      "2    {\"code.filepath\":\"E:\\\\code\\\\Evaluations\\\\Sampl...  \n",
      "3    {\"code.filepath\":\"E:\\\\code\\\\Evaluations\\\\Sampl...  \n",
      "4    {\"code.filepath\":\"E:\\\\code\\\\Evaluations\\\\Sampl...  \n",
      "..                                                 ...  \n",
      "869  {\"conversation_id\":\"3fdc82d7-01ca-47f8-b3de-5f...  \n",
      "870  {\"conversation_id\":\"721b13de-fe28-4cec-8ec8-c4...  \n",
      "871  {\"conversation_id\":\"798c3ad8-6cc5-4d56-b92d-6a...  \n",
      "872  {\"conversation_id\":\"ad1c826b-c227-4766-a1ca-31...  \n",
      "873  {\"conversation_id\":\"30d397ea-cf8b-43df-84b9-f4...  \n",
      "\n",
      "[874 rows x 3 columns]\n"
     ]
    }
   ],
   "source": [
    "try:\n",
    "    response = client.query_workspace(\n",
    "        workspace_id=\"24bbb4b3-a8e3-4a98-9c0d-2a48494c5e35\",\n",
    "        query=query_conversation_data,\n",
    "        timespan=(start_time, end_time)\n",
    "        )\n",
    "    if response.status == LogsQueryStatus.PARTIAL:\n",
    "        error = response.partial_error\n",
    "        data = response.partial_data\n",
    "        print(error)\n",
    "    elif response.status == LogsQueryStatus.SUCCESS:\n",
    "        data = response.tables\n",
    "    for table in data:\n",
    "        df_conversation = pd.DataFrame(data=table.rows, columns=table.columns)\n",
    "        print(df_conversation)\n",
    "except HttpResponseError as err:\n",
    "    print(\"something fatal happened\")\n",
    "    print(err)"
   ]
  },
  {
   "cell_type": "code",
   "execution_count": 254,
   "metadata": {},
   "outputs": [
    {
     "name": "stdout",
     "output_type": "stream",
     "text": [
      "                        TimeGenerated   Message  \\\n",
      "0    2024-05-02 05:41:27.027795+00:00  llm_data   \n",
      "1    2024-05-02 05:41:27.027795+00:00  llm_data   \n",
      "2    2024-05-02 05:41:45.183121+00:00  llm_data   \n",
      "3    2024-05-02 05:41:45.184253+00:00  llm_data   \n",
      "4    2024-05-01 12:02:21.390342+00:00  llm_data   \n",
      "...                               ...       ...   \n",
      "1743 2024-05-01 13:15:30.871311+00:00  llm_data   \n",
      "1744 2024-05-01 13:15:36.312971+00:00  llm_data   \n",
      "1745 2024-05-01 13:15:36.315937+00:00  llm_data   \n",
      "1746 2024-05-01 13:15:41.141038+00:00  llm_data   \n",
      "1747 2024-05-01 13:15:41.142272+00:00  llm_data   \n",
      "\n",
      "                                             Properties  \n",
      "0     {\"code.filepath\":\"E:\\\\code\\\\llm-eval-grader\\\\src\\\\...  \n",
      "1     {\"code.filepath\":\"E:\\\\code\\\\llm-eval-grader\\\\src\\\\...  \n",
      "2     {\"code.filepath\":\"E:\\\\code\\\\llm-eval-grader\\\\src\\\\...  \n",
      "3     {\"code.filepath\":\"E:\\\\code\\\\llm-eval-grader\\\\src\\\\...  \n",
      "4     {\"code.filepath\":\"E:\\\\code\\\\Evaluations\\\\Sampl...  \n",
      "...                                                 ...  \n",
      "1743  {\"conversation_id\":\"798c3ad8-6cc5-4d56-b92d-6a...  \n",
      "1744  {\"conversation_id\":\"ad1c826b-c227-4766-a1ca-31...  \n",
      "1745  {\"conversation_id\":\"ad1c826b-c227-4766-a1ca-31...  \n",
      "1746  {\"conversation_id\":\"30d397ea-cf8b-43df-84b9-f4...  \n",
      "1747  {\"conversation_id\":\"30d397ea-cf8b-43df-84b9-f4...  \n",
      "\n",
      "[1748 rows x 3 columns]\n"
     ]
    }
   ],
   "source": [
    "try:\n",
    "    response = client.query_workspace(\n",
    "        workspace_id=\"24bbb4b3-a8e3-4a98-9c0d-2a48494c5e35\",\n",
    "        query=query_llm_data,\n",
    "        timespan=(start_time, end_time)\n",
    "        )\n",
    "    if response.status == LogsQueryStatus.PARTIAL:\n",
    "        error = response.partial_error\n",
    "        data = response.partial_data\n",
    "        print(error)\n",
    "    elif response.status == LogsQueryStatus.SUCCESS:\n",
    "        data = response.tables\n",
    "    for table in data:\n",
    "        df_llm = pd.DataFrame(data=table.rows, columns=table.columns)\n",
    "        print(df_llm)\n",
    "except HttpResponseError as err:\n",
    "    print(\"something fatal happened\")\n",
    "    print(err)"
   ]
  },
  {
   "cell_type": "code",
   "execution_count": 255,
   "metadata": {},
   "outputs": [
    {
     "data": {
      "text/plain": [
       "(1748, 3)"
      ]
     },
     "execution_count": 255,
     "metadata": {},
     "output_type": "execute_result"
    }
   ],
   "source": [
    "df_llm.shape"
   ]
  },
  {
   "cell_type": "code",
   "execution_count": 256,
   "metadata": {},
   "outputs": [],
   "source": [
    "df_conversation_mapped = pd.DataFrame(columns=[\"conversation_id\", \"turn_id\", \"query\", \"response\", \"timestamp\"])\n",
    "for i in range(df_conversation.shape[0]):\n",
    "    df_conversation_mapped.loc[i] = [ast.literal_eval(df_conversation[\"Properties\"].iloc[i])[\"conversation_id\"], ast.literal_eval(df_conversation[\"Properties\"].iloc[i])[\"turn_id\"], ast.literal_eval(df_conversation[\"Properties\"].iloc[i])[\"query\"], ast.literal_eval(df_conversation[\"Properties\"].iloc[i])[\"response\"], df_conversation[\"TimeGenerated\"].iloc[i]]"
   ]
  },
  {
   "cell_type": "code",
   "execution_count": 257,
   "metadata": {},
   "outputs": [
    {
     "data": {
      "text/html": [
       "<div>\n",
       "<style scoped>\n",
       "    .dataframe tbody tr th:only-of-type {\n",
       "        vertical-align: middle;\n",
       "    }\n",
       "\n",
       "    .dataframe tbody tr th {\n",
       "        vertical-align: top;\n",
       "    }\n",
       "\n",
       "    .dataframe thead th {\n",
       "        text-align: right;\n",
       "    }\n",
       "</style>\n",
       "<table border=\"1\" class=\"dataframe\">\n",
       "  <thead>\n",
       "    <tr style=\"text-align: right;\">\n",
       "      <th></th>\n",
       "      <th>conversation_id</th>\n",
       "      <th>turn_id</th>\n",
       "      <th>query</th>\n",
       "      <th>response</th>\n",
       "      <th>timestamp</th>\n",
       "    </tr>\n",
       "  </thead>\n",
       "  <tbody>\n",
       "    <tr>\n",
       "      <th>0</th>\n",
       "      <td>22851dd3-1db6-4c76-9ee1-14cb73730b4f</td>\n",
       "      <td>9df607a1-6e27-47ce-a173-f50c819a3fde</td>\n",
       "      <td>Suggest me some good TV</td>\n",
       "      <td>Sure, I'd be happy to help you find a good TV....</td>\n",
       "      <td>2024-05-02 05:41:27.042375+00:00</td>\n",
       "    </tr>\n",
       "    <tr>\n",
       "      <th>1</th>\n",
       "      <td>22851dd3-1db6-4c76-9ee1-14cb73730b4f</td>\n",
       "      <td>9c4dc198-796a-46fb-8de9-37830ad8482a</td>\n",
       "      <td>under 10K</td>\n",
       "      <td>Sure, there are several good options available...</td>\n",
       "      <td>2024-05-02 05:41:45.188098+00:00</td>\n",
       "    </tr>\n",
       "    <tr>\n",
       "      <th>2</th>\n",
       "      <td>0f30a5e1-7e40-4595-bdf4-87ad85b4fb26</td>\n",
       "      <td>730c1f83-1306-45e8-9ce5-346545a7c7f4</td>\n",
       "      <td>What's the best aisle to find organic produce?</td>\n",
       "      <td>Typically, organic produce can be found in a s...</td>\n",
       "      <td>2024-05-01 12:02:21.396239+00:00</td>\n",
       "    </tr>\n",
       "    <tr>\n",
       "      <th>3</th>\n",
       "      <td>89cd78c4-1004-4ee6-905b-f9cb7fb798ff</td>\n",
       "      <td>95e28832-8d11-4b57-8596-dd15d9c94e17</td>\n",
       "      <td>Where can I find HDMI cables?</td>\n",
       "      <td>You can find HDMI cables in most electronics s...</td>\n",
       "      <td>2024-05-01 12:02:25.091355+00:00</td>\n",
       "    </tr>\n",
       "    <tr>\n",
       "      <th>4</th>\n",
       "      <td>5f60fc63-c8a9-47a3-9bcd-3a5c9d224ee6</td>\n",
       "      <td>6dfea0a1-37cf-4d28-93e7-fd7a89299676</td>\n",
       "      <td>Where can I find HDMI cables?</td>\n",
       "      <td>You can find HDMI cables at most electronic st...</td>\n",
       "      <td>2024-05-01 12:02:29.274942+00:00</td>\n",
       "    </tr>\n",
       "  </tbody>\n",
       "</table>\n",
       "</div>"
      ],
      "text/plain": [
       "                        conversation_id                               turn_id  \\\n",
       "0  22851dd3-1db6-4c76-9ee1-14cb73730b4f  9df607a1-6e27-47ce-a173-f50c819a3fde   \n",
       "1  22851dd3-1db6-4c76-9ee1-14cb73730b4f  9c4dc198-796a-46fb-8de9-37830ad8482a   \n",
       "2  0f30a5e1-7e40-4595-bdf4-87ad85b4fb26  730c1f83-1306-45e8-9ce5-346545a7c7f4   \n",
       "3  89cd78c4-1004-4ee6-905b-f9cb7fb798ff  95e28832-8d11-4b57-8596-dd15d9c94e17   \n",
       "4  5f60fc63-c8a9-47a3-9bcd-3a5c9d224ee6  6dfea0a1-37cf-4d28-93e7-fd7a89299676   \n",
       "\n",
       "                                            query  \\\n",
       "0                         Suggest me some good TV   \n",
       "1                                       under 10K   \n",
       "2  What's the best aisle to find organic produce?   \n",
       "3                   Where can I find HDMI cables?   \n",
       "4                   Where can I find HDMI cables?   \n",
       "\n",
       "                                            response  \\\n",
       "0  Sure, I'd be happy to help you find a good TV....   \n",
       "1  Sure, there are several good options available...   \n",
       "2  Typically, organic produce can be found in a s...   \n",
       "3  You can find HDMI cables in most electronics s...   \n",
       "4  You can find HDMI cables at most electronic st...   \n",
       "\n",
       "                         timestamp  \n",
       "0 2024-05-02 05:41:27.042375+00:00  \n",
       "1 2024-05-02 05:41:45.188098+00:00  \n",
       "2 2024-05-01 12:02:21.396239+00:00  \n",
       "3 2024-05-01 12:02:25.091355+00:00  \n",
       "4 2024-05-01 12:02:29.274942+00:00  "
      ]
     },
     "execution_count": 257,
     "metadata": {},
     "output_type": "execute_result"
    }
   ],
   "source": [
    "df_conversation_mapped.head()"
   ]
  },
  {
   "cell_type": "code",
   "execution_count": 287,
   "metadata": {},
   "outputs": [],
   "source": [
    "\n",
    "df_llm_mapped = pd.DataFrame(columns=[\"context\",\"response\",\"conversation_id\", \"turn_id\", \"query\",\"intent\", \"model\",\"timestamp\"])\n",
    " "
   ]
  },
  {
   "cell_type": "code",
   "execution_count": null,
   "metadata": {},
   "outputs": [],
   "source": [
    "#Remove the rows where llm_response is null or empty in the df_llm\n",
    "# if ast.literal_eval(df_llm[\"Properties\"].iloc[0])(\"llm_response\") is null then drop those rowa from df_llm\n"
   ]
  },
  {
   "cell_type": "code",
   "execution_count": 288,
   "metadata": {},
   "outputs": [],
   "source": [
    "for i in range(df_llm.shape[0]):\n",
    "    if \"llm_response\" not in ast.literal_eval(df_llm[\"Properties\"].iloc[i]):\n",
    "        continue \n",
    "    else:\n",
    "        if \"context\" in ast.literal_eval(df_llm[\"Properties\"].iloc[i]):\n",
    "            df_llm_mapped.loc[i] = [ast.literal_eval(df_llm[\"Properties\"].iloc[i])[\"context\"],ast.literal_eval(df_llm[\"Properties\"].iloc[i])[\"llm_response\"],ast.literal_eval(df_llm[\"Properties\"].iloc[i])[\"conversation_id\"], ast.literal_eval(df_llm[\"Properties\"].iloc[i])[\"turn_id\"], ast.literal_eval(df_llm[\"Properties\"].iloc[i])[\"query\"], ast.literal_eval(df_llm[\"Properties\"].iloc[i])[\"intent\"], ast.literal_eval(df_llm[\"Properties\"].iloc[i])[\"model\"], df_llm[\"TimeGenerated\"].iloc[i]]\n",
    "        else:\n",
    "            df_llm_mapped.loc[i] = [\"\",ast.literal_eval(df_llm[\"Properties\"].iloc[i])[\"llm_response\"],ast.literal_eval(df_llm[\"Properties\"].iloc[i])[\"conversation_id\"], ast.literal_eval(df_llm[\"Properties\"].iloc[i])[\"turn_id\"], ast.literal_eval(df_llm[\"Properties\"].iloc[i])[\"query\"], ast.literal_eval(df_llm[\"Properties\"].iloc[i])[\"intent\"], ast.literal_eval(df_llm[\"Properties\"].iloc[i])[\"model\"], df_llm[\"TimeGenerated\"].iloc[i]]"
   ]
  },
  {
   "cell_type": "code",
   "execution_count": 289,
   "metadata": {},
   "outputs": [
    {
     "data": {
      "text/html": [
       "<div>\n",
       "<style scoped>\n",
       "    .dataframe tbody tr th:only-of-type {\n",
       "        vertical-align: middle;\n",
       "    }\n",
       "\n",
       "    .dataframe tbody tr th {\n",
       "        vertical-align: top;\n",
       "    }\n",
       "\n",
       "    .dataframe thead th {\n",
       "        text-align: right;\n",
       "    }\n",
       "</style>\n",
       "<table border=\"1\" class=\"dataframe\">\n",
       "  <thead>\n",
       "    <tr style=\"text-align: right;\">\n",
       "      <th></th>\n",
       "      <th>context</th>\n",
       "      <th>response</th>\n",
       "      <th>conversation_id</th>\n",
       "      <th>turn_id</th>\n",
       "      <th>query</th>\n",
       "      <th>intent</th>\n",
       "      <th>model</th>\n",
       "      <th>timestamp</th>\n",
       "    </tr>\n",
       "  </thead>\n",
       "  <tbody>\n",
       "    <tr>\n",
       "      <th>0</th>\n",
       "      <td></td>\n",
       "      <td>{\\n  \"id\": \"chatcmpl-9KJU6EnHm7P4YPJ2A6tUNL8Z2...</td>\n",
       "      <td>22851dd3-1db6-4c76-9ee1-14cb73730b4f</td>\n",
       "      <td>9df607a1-6e27-47ce-a173-f50c819a3fde</td>\n",
       "      <td>Suggest me some good TV</td>\n",
       "      <td>electronics</td>\n",
       "      <td>electronics_model</td>\n",
       "      <td>2024-05-02 05:41:27.027795+00:00</td>\n",
       "    </tr>\n",
       "    <tr>\n",
       "      <th>1</th>\n",
       "      <td></td>\n",
       "      <td>{\\n  \"id\": \"chatcmpl-9KJU65RhbUbO3senbJTwq7I4i...</td>\n",
       "      <td>22851dd3-1db6-4c76-9ee1-14cb73730b4f</td>\n",
       "      <td>9df607a1-6e27-47ce-a173-f50c819a3fde</td>\n",
       "      <td>Suggest me some good TV</td>\n",
       "      <td>electronics</td>\n",
       "      <td>intent_detection_model</td>\n",
       "      <td>2024-05-02 05:41:27.027795+00:00</td>\n",
       "    </tr>\n",
       "    <tr>\n",
       "      <th>2</th>\n",
       "      <td>\\nUser:Suggest me some good TV\\nBot:Sure, I'd ...</td>\n",
       "      <td>{\\n  \"id\": \"chatcmpl-9KJUMRY4OGNJ2Y6HEh5LkgnLb...</td>\n",
       "      <td>22851dd3-1db6-4c76-9ee1-14cb73730b4f</td>\n",
       "      <td>9c4dc198-796a-46fb-8de9-37830ad8482a</td>\n",
       "      <td>under 10K</td>\n",
       "      <td>electronics</td>\n",
       "      <td>intent_detection_model</td>\n",
       "      <td>2024-05-02 05:41:45.183121+00:00</td>\n",
       "    </tr>\n",
       "    <tr>\n",
       "      <th>3</th>\n",
       "      <td>\\nUser:Suggest me some good TV\\nBot:Sure, I'd ...</td>\n",
       "      <td>{\\n  \"id\": \"chatcmpl-9KJUM8HgdCCEtQrkbAXbjGMbd...</td>\n",
       "      <td>22851dd3-1db6-4c76-9ee1-14cb73730b4f</td>\n",
       "      <td>9c4dc198-796a-46fb-8de9-37830ad8482a</td>\n",
       "      <td>under 10K</td>\n",
       "      <td>electronics</td>\n",
       "      <td>electronics_model</td>\n",
       "      <td>2024-05-02 05:41:45.184253+00:00</td>\n",
       "    </tr>\n",
       "    <tr>\n",
       "      <th>92</th>\n",
       "      <td></td>\n",
       "      <td>{\\n  \"id\": \"chatcmpl-9K33QsrRbxxC4SnmQsKUdYKyA...</td>\n",
       "      <td>5ea70872-ada2-42a9-b9cd-cd570f3e5c47</td>\n",
       "      <td>59d57d08-36d5-492f-8e52-d7152fc63ea0</td>\n",
       "      <td>What can you do for me</td>\n",
       "      <td>general</td>\n",
       "      <td>intent_detection_model</td>\n",
       "      <td>2024-05-01 12:08:49.158175+00:00</td>\n",
       "    </tr>\n",
       "  </tbody>\n",
       "</table>\n",
       "</div>"
      ],
      "text/plain": [
       "                                              context  \\\n",
       "0                                                       \n",
       "1                                                       \n",
       "2   \\nUser:Suggest me some good TV\\nBot:Sure, I'd ...   \n",
       "3   \\nUser:Suggest me some good TV\\nBot:Sure, I'd ...   \n",
       "92                                                      \n",
       "\n",
       "                                             response  \\\n",
       "0   {\\n  \"id\": \"chatcmpl-9KJU6EnHm7P4YPJ2A6tUNL8Z2...   \n",
       "1   {\\n  \"id\": \"chatcmpl-9KJU65RhbUbO3senbJTwq7I4i...   \n",
       "2   {\\n  \"id\": \"chatcmpl-9KJUMRY4OGNJ2Y6HEh5LkgnLb...   \n",
       "3   {\\n  \"id\": \"chatcmpl-9KJUM8HgdCCEtQrkbAXbjGMbd...   \n",
       "92  {\\n  \"id\": \"chatcmpl-9K33QsrRbxxC4SnmQsKUdYKyA...   \n",
       "\n",
       "                         conversation_id  \\\n",
       "0   22851dd3-1db6-4c76-9ee1-14cb73730b4f   \n",
       "1   22851dd3-1db6-4c76-9ee1-14cb73730b4f   \n",
       "2   22851dd3-1db6-4c76-9ee1-14cb73730b4f   \n",
       "3   22851dd3-1db6-4c76-9ee1-14cb73730b4f   \n",
       "92  5ea70872-ada2-42a9-b9cd-cd570f3e5c47   \n",
       "\n",
       "                                 turn_id                    query  \\\n",
       "0   9df607a1-6e27-47ce-a173-f50c819a3fde  Suggest me some good TV   \n",
       "1   9df607a1-6e27-47ce-a173-f50c819a3fde  Suggest me some good TV   \n",
       "2   9c4dc198-796a-46fb-8de9-37830ad8482a                under 10K   \n",
       "3   9c4dc198-796a-46fb-8de9-37830ad8482a                under 10K   \n",
       "92  59d57d08-36d5-492f-8e52-d7152fc63ea0   What can you do for me   \n",
       "\n",
       "         intent                   model                        timestamp  \n",
       "0   electronics       electronics_model 2024-05-02 05:41:27.027795+00:00  \n",
       "1   electronics  intent_detection_model 2024-05-02 05:41:27.027795+00:00  \n",
       "2   electronics  intent_detection_model 2024-05-02 05:41:45.183121+00:00  \n",
       "3   electronics       electronics_model 2024-05-02 05:41:45.184253+00:00  \n",
       "92      general  intent_detection_model 2024-05-01 12:08:49.158175+00:00  "
      ]
     },
     "execution_count": 289,
     "metadata": {},
     "output_type": "execute_result"
    }
   ],
   "source": [
    "df_llm_mapped.head()"
   ]
  },
  {
   "cell_type": "code",
   "execution_count": 290,
   "metadata": {},
   "outputs": [],
   "source": [
    "df_llm_mapped[\"response\"] = df_llm_mapped[\"response\"].apply(lambda x: json.loads(x)[\"choices\"][0][\"message\"][\"content\"] if x != \"\" else x)"
   ]
  },
  {
   "cell_type": "code",
   "execution_count": 291,
   "metadata": {},
   "outputs": [
    {
     "data": {
      "text/plain": [
       "(1654, 8)"
      ]
     },
     "execution_count": 291,
     "metadata": {},
     "output_type": "execute_result"
    }
   ],
   "source": [
    "df_llm_mapped.shape"
   ]
  }
 ],
 "metadata": {
  "kernelspec": {
   "display_name": "pf-env-86-lmt",
   "language": "python",
   "name": "python3"
  },
  "language_info": {
   "codemirror_mode": {
    "name": "ipython",
    "version": 3
   },
   "file_extension": ".py",
   "mimetype": "text/x-python",
   "name": "python",
   "nbconvert_exporter": "python",
   "pygments_lexer": "ipython3",
   "version": "3.10.12"
  }
 },
 "nbformat": 4,
 "nbformat_minor": 2
}
